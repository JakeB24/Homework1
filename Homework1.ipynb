{
 "cells": [
  {
   "cell_type": "code",
   "execution_count": null,
   "id": "481c206f-c541-4aca-9167-fa1bc0808da9",
   "metadata": {},
   "outputs": [],
   "source": [
    "# problem 1 Hello this is test change\n",
    "def github() -> str:\n",
    "    return \"https://github.com/JakeB24/Homework1\""
   ]
  },
  {
   "cell_type": "code",
   "execution_count": 3,
   "id": "e9408332-c4f1-41f3-98a4-b3980ec5b10b",
   "metadata": {
    "scrolled": true
   },
   "outputs": [],
   "source": [
    "# problem 2 evens and odds. \n",
    "def evens_and_odds(n: int) -> dict:\n",
    "    evencount=0\n",
    "    oddcount=0\n",
    "    for i in range(1,n):\n",
    "        if(i%2==0):\n",
    "            evencount += i   \n",
    "        else:\n",
    "            oddcount +=i\n",
    "\n",
    "    return{\"evens\": evencount, \"odds\": oddcount}\n",
    "    \n",
    "#print(evens_and_odds(4))   \n"
   ]
  },
  {
   "cell_type": "code",
   "execution_count": 3,
   "id": "6608fdc4-13d6-46aa-bc9e-cee7c87e4622",
   "metadata": {},
   "outputs": [],
   "source": [
    "# problem 3 \n",
    "from datetime import datetime\n",
    "from typing import Union\n",
    "\n",
    "def time_diff(date_1: str, date_2: str, out: str) -> Union[str,float]:\n",
    "    date_1 = datetime.strptime(date_1, '%Y-%m-%d')\n",
    "    date_2 = datetime.strptime(date_2, '%Y-%m-%d')\n",
    "    timebetween = abs(date_2-date_1).days\n",
    "    if out== \"float\":\n",
    "        return timebetween\n",
    "    else:\n",
    "        print('There are ' + timebetween + 'days between the two dates')\n",
    "    \n",
    "    \n",
    "\n",
    "    return None"
   ]
  },
  {
   "cell_type": "code",
   "execution_count": 8,
   "id": "bda5d8ef-bdfa-4149-81c5-9e0339c6e150",
   "metadata": {},
   "outputs": [
    {
     "name": "stdout",
     "output_type": "stream",
     "text": [
      "['c', 'b', 'a']\n"
     ]
    }
   ],
   "source": [
    "# problem 4\n",
    "def reverse(in_list: list) -> list:\n",
    "    reversed_list = []\n",
    "    for item in in_list:\n",
    "       reversed_list.insert(0, item)\n",
    "    return reversed_list\n",
    "\n",
    "#print(reverse(['a', 'b', 'c']))\n"
   ]
  },
  {
   "cell_type": "code",
   "execution_count": 2,
   "id": "8cea2a00-7038-4340-905b-aac9ebbe943a",
   "metadata": {},
   "outputs": [
    {
     "name": "stdout",
     "output_type": "stream",
     "text": [
      "0.25\n"
     ]
    }
   ],
   "source": [
    "#problem 5\n",
    "def prob_k_heads(n: int, k: int) -> float:\n",
    "    if k < 0 or k > n:\n",
    "        return 0.0\n",
    "        \n",
    "    p_head = 0.5\n",
    "    coefficient = 1\n",
    "    \n",
    "    for i in range(1, k + 1):\n",
    "        coefficient *= (n - i + 1) / i\n",
    "        prob = coefficient * (p_head ** k) * ((1 - p_head) ** (n - k))\n",
    "    \n",
    "    return prob\n",
    "#print(prob_k_heads(2,2)) "
   ]
  }
 ],
 "metadata": {
  "kernelspec": {
   "display_name": "Python 3 (ipykernel)",
   "language": "python",
   "name": "python3"
  },
  "language_info": {
   "codemirror_mode": {
    "name": "ipython",
    "version": 3
   },
   "file_extension": ".py",
   "mimetype": "text/x-python",
   "name": "python",
   "nbconvert_exporter": "python",
   "pygments_lexer": "ipython3",
   "version": "3.10.13"
  }
 },
 "nbformat": 4,
 "nbformat_minor": 5
}
